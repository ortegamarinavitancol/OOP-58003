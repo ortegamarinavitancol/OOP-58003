{
  "nbformat": 4,
  "nbformat_minor": 0,
  "metadata": {
    "colab": {
      "name": "Midterm Exam",
      "provenance": [],
      "authorship_tag": "ABX9TyNA5wyd72stnhTGqa/t+Bh6",
      "include_colab_link": true
    },
    "kernelspec": {
      "name": "python3",
      "display_name": "Python 3"
    },
    "language_info": {
      "name": "python"
    }
  },
  "cells": [
    {
      "cell_type": "markdown",
      "metadata": {
        "id": "view-in-github",
        "colab_type": "text"
      },
      "source": [
        "<a href=\"https://colab.research.google.com/github/ortegamarinavitancol/OOP-58003/blob/main/Midterm_Exam.ipynb\" target=\"_parent\"><img src=\"https://colab.research.google.com/assets/colab-badge.svg\" alt=\"Open In Colab\"/></a>"
      ]
    },
    {
      "cell_type": "markdown",
      "source": [
        "Program 1"
      ],
      "metadata": {
        "id": "a3AqJeOIplXA"
      }
    },
    {
      "cell_type": "code",
      "execution_count": 33,
      "metadata": {
        "colab": {
          "base_uri": "https://localhost:8080/"
        },
        "id": "ijSPwmq4XFIR",
        "outputId": "76413561-ade5-4516-a272-7347624d20a8"
      },
      "outputs": [
        {
          "output_type": "stream",
          "name": "stdout",
          "text": [
            "Enter the unit of temperature (Celsius,Fareheit,or Kelvin):Kelvin\n",
            "Enter the temperature in Kelvin: 15\n",
            "-258.15 Celcius\n"
          ]
        }
      ],
      "source": [
        "def main():\n",
        "\n",
        "  \n",
        "\n",
        "  class TemperatureConversion:\n",
        "   \n",
        "   def __init__(self, temp=1):\n",
        "     \n",
        "     self._temp = temp\n",
        "\n",
        "  class CelsiusToFahrenheit(TemperatureConversion):\n",
        "    \n",
        "    def conversion(self):\n",
        "      \n",
        "      return (self._temp * 9) / 5 + 32\n",
        "\n",
        "  class CelsiusToKelvin(TemperatureConversion):\n",
        "    \n",
        "    def conversion(self):\n",
        "      \n",
        "      return self._temp + 273.15\n",
        "    \n",
        "  class FarenheitToCelcius(TemperatureConversion):\n",
        "    \n",
        "    def conversion(self):\n",
        "      \n",
        "      return (self._temp - 32) * 5/9\n",
        "\n",
        "  class KelvinToCelcius(TemperatureConversion):\n",
        "    \n",
        "    def conversion(self):\n",
        "      \n",
        "      return self._temp - 273.15\n",
        "\n",
        "\n",
        "  tempUnit = str(input(\"Enter the unit of temperature (Celsius,Fareheit,or Kelvin):\"))\n",
        "  \n",
        "  if tempUnit == \"Celsius\":\n",
        "    \n",
        "    tempInCelsius = float(input(\"Enter the temperature in Celsius: \"))\n",
        "    \n",
        "    convert = CelsiusToKelvin(tempInCelsius)\n",
        "    \n",
        "    print(str(convert.conversion()) + \" Kelvin\")\n",
        "    \n",
        "    convert = CelsiusToFahrenheit(tempInCelsius)\n",
        "    \n",
        "    print(str(convert.conversion()) + \" Fahrenheit\")\n",
        "\n",
        "  elif tempUnit == \"Farenheit\":\n",
        "    \n",
        "    tempInFarenheit = float(input(\"Enter the temperature in Farenheit: \"))\n",
        "    \n",
        "    convert = FarenheitToCelcius(tempInFarenheit)\n",
        "    \n",
        "    print(str(convert.conversion()) + \" Celcius\")\n",
        "\n",
        "  elif tempUnit == \"Kelvin\":\n",
        "    \n",
        "    tempInKelvin = float(input(\"Enter the temperature in Kelvin: \"))\n",
        "    \n",
        "    convert = KelvinToCelcius(tempInKelvin)\n",
        "    \n",
        "    print(str(convert.conversion()) + \" Celcius\")\n",
        "\n",
        "\n",
        "\n",
        "\n",
        "\n",
        "\n",
        " \n",
        "\n",
        "\n",
        "\n",
        "main()"
      ]
    },
    {
      "cell_type": "markdown",
      "source": [
        "Program 2"
      ],
      "metadata": {
        "id": "6MuMx9zUph6i"
      }
    },
    {
      "cell_type": "code",
      "source": [
        "from tkinter import *\n",
        "class DsplyName:\n",
        "\n",
        "    def __init__(self, window):\n",
        "        self.label = Label(window, text=\"Enter your fullname:\", fg='Red')\n",
        "        self.label.place(x=50,y=100)\n",
        "\n",
        "        self.txtfld = Entry(window,border=5, font=(\"Arial\",16))\n",
        "        self.txtfld.place(x=250,y=100)\n",
        "\n",
        "        self.btn = Button(window, text=\"Click to display your Fullname\",fg=\"red\", command=self.action)\n",
        "        self.btn.place(x=50, y=200)\n",
        "\n",
        "        self.t1 =Entry(bd=15)\n",
        "        self.t1.place(x=250, y=200)\n",
        "\n",
        "    def action(self):\n",
        "        name = self.t1.get()\n",
        "        self.t1['text'] = name\n",
        "\n",
        "\n",
        "\n",
        "\n",
        "\n",
        "\n",
        "window = Tk()\n",
        "mywin = DsplyName(window)\n",
        "window.title(\"Midterm in OOP\")\n",
        "window.geometry(\"600x300\")\n",
        "window.mainloop()\n"
      ],
      "metadata": {
        "id": "w5e4BBhsYonq"
      },
      "execution_count": null,
      "outputs": []
    }
  ]
}