{
  "nbformat": 4,
  "nbformat_minor": 0,
  "metadata": {
    "colab": {
      "name": "Midterm Exam",
      "provenance": [],
      "authorship_tag": "ABX9TyM0QXkGqlrVkDn/8+6wu/hM",
      "include_colab_link": true
    },
    "kernelspec": {
      "name": "python3",
      "display_name": "Python 3"
    },
    "language_info": {
      "name": "python"
    }
  },
  "cells": [
    {
      "cell_type": "markdown",
      "metadata": {
        "id": "view-in-github",
        "colab_type": "text"
      },
      "source": [
        "<a href=\"https://colab.research.google.com/github/ortegamarinavitancol/OOP-58003/blob/main/Midterm_Exam.ipynb\" target=\"_parent\"><img src=\"https://colab.research.google.com/assets/colab-badge.svg\" alt=\"Open In Colab\"/></a>"
      ]
    },
    {
      "cell_type": "code",
      "execution_count": 21,
      "metadata": {
        "colab": {
          "base_uri": "https://localhost:8080/"
        },
        "id": "ijSPwmq4XFIR",
        "outputId": "8f74c820-a028-419a-8224-f5ef17974487"
      },
      "outputs": [
        {
          "output_type": "stream",
          "name": "stdout",
          "text": [
            "Enter the unit of temperature (Celcius,Fareheit,or Kelvin):Farenheit\n",
            "Enter the temperature in Farenheit: 100\n",
            "37.77777777777778 Celcius\n"
          ]
        }
      ],
      "source": [
        "def main():\n",
        "\n",
        "  \n",
        "\n",
        " class TemperatureConversion:\n",
        "\n",
        "  def __init__(self, temp=1):\n",
        "\n",
        "   self._temp = temp\n",
        "\n",
        " class CelsiusToFahrenheit(TemperatureConversion):\n",
        "\n",
        "  def conversion(self):\n",
        "\n",
        "   return (self._temp * 9) / 5 + 32\n",
        "\n",
        " class CelsiusToKelvin(TemperatureConversion):\n",
        "\n",
        "  def conversion(self):\n",
        "\n",
        "   return self._temp + 273.15\n",
        "\n",
        "  class FarenheitToCelcius(TemperatureConversion):\n",
        "    \n",
        "    def conversion(self):\n",
        "      \n",
        "      return (self._temp - 32) * 5/9\n",
        "\n",
        "  class KelvinToCelcius(TemperatureConversion):\n",
        "    \n",
        "    def conversion(self):\n",
        "      \n",
        "      return self._temp - 273.15\n",
        "\n",
        "\n",
        "  tempUnit = str(input(\"Enter the unit of temperature (Celcius,Fareheit,or Kelvin):\"))\n",
        "  \n",
        "  if tempUnit == \"Celcius\":\n",
        "    \n",
        "    tempInCelsius = float(input(\"Enter the temperature in Celius: \"))\n",
        "    \n",
        "    convert = CelsiusToKelvin(tempInCelsius)\n",
        "    \n",
        "    print(str(convert.conversion()) + \" Kelvin\")\n",
        "    \n",
        "    convert = CelsiusToFahrenheit(tempInCelsius)\n",
        "    \n",
        "    print(str(convert.conversion()) + \" Fahrenheit\")\n",
        "\n",
        "  elif tempUnit == \"Farenheit\":\n",
        "    \n",
        "    tempInFarenheit = float(input(\"Enter the temperature in Farenheit: \"))\n",
        "    \n",
        "    convert = FarenheitToCelcius(tempInFarenheit)\n",
        "    \n",
        "    print(str(convert.conversion()) + \" Celcius\")\n",
        "\n",
        "  elif tempUnit == \"Kelvin\":\n",
        "    \n",
        "    tempInKelvin = float(input(\"Enter the temperature in Kelvin: \"))\n",
        "    \n",
        "    convert = KelvinToCelcius(tempInKelvin)\n",
        "    \n",
        "    print(str(convert.conversion()) + \" Celcius\")\n",
        "\n",
        "\n",
        "\n",
        "\n",
        "\n",
        "\n",
        " \n",
        "\n",
        "\n",
        "\n",
        "main()"
      ]
    },
    {
      "cell_type": "code",
      "source": [
        ""
      ],
      "metadata": {
        "id": "w5e4BBhsYonq"
      },
      "execution_count": null,
      "outputs": []
    }
  ]
}