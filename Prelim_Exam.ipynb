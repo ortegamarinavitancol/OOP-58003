{
  "nbformat": 4,
  "nbformat_minor": 0,
  "metadata": {
    "colab": {
      "name": "Prelim Exam",
      "provenance": [],
      "collapsed_sections": [],
      "authorship_tag": "ABX9TyO58pyWPrvzOuE0RMDyCeT0",
      "include_colab_link": true
    },
    "kernelspec": {
      "name": "python3",
      "display_name": "Python 3"
    },
    "language_info": {
      "name": "python"
    }
  },
  "cells": [
    {
      "cell_type": "markdown",
      "metadata": {
        "id": "view-in-github",
        "colab_type": "text"
      },
      "source": [
        "<a href=\"https://colab.research.google.com/github/ortegamarinavitancol/OOP-58003/blob/main/Prelim_Exam.ipynb\" target=\"_parent\"><img src=\"https://colab.research.google.com/assets/colab-badge.svg\" alt=\"Open In Colab\"/></a>"
      ]
    },
    {
      "cell_type": "code",
      "execution_count": 15,
      "metadata": {
        "colab": {
          "base_uri": "https://localhost:8080/"
        },
        "id": "um--WfQ_KhuD",
        "outputId": "da7566e5-718c-403f-badd-a5a3c0fcd375"
      },
      "outputs": [
        {
          "output_type": "stream",
          "name": "stdout",
          "text": [
            "College Student\n",
            "\n",
            "Name: Marina Ortega\n",
            "Student Number: 202119669\n",
            "Age: 20\n",
            "School: Adamson University\n",
            "Course: B.S Computer Engineering\n",
            "\n",
            "--End of Program--\n"
          ]
        }
      ],
      "source": [
        "class Student:\n",
        "  def __init__(self, Name, Student_No, Age, School, Course):\n",
        "    self.Name = Name\n",
        "    self.Student_No = Student_No\n",
        "    self.Age = Age\n",
        "    self.School = School\n",
        "    self.Course = Course\n",
        "\n",
        "  def Self(self):\n",
        "    return self.Name, self.Student_No, self.Age, self.School, self.Course\n",
        "\n",
        "  def display (self):\n",
        "    print(\"College Student\")\n",
        "    print(\"\\nName:\", self.Name)\n",
        "    print(\"Student Number:\", self.Student_No)\n",
        "    print(\"Age:\", self.Age)\n",
        "    print(\"School:\", self.School)\n",
        "    print(\"Course:\", self.Course)\n",
        "    print(\"\\n--End of Program--\")\n",
        "\n",
        "\n",
        "Myself = Student(\"Marina Ortega\", 202119669, 20, \"Adamson University\", \"B.S Computer Engineering\")\n",
        "\n",
        "\n",
        "Myself.display()\n",
        "  \n"
      ]
    }
  ]
}