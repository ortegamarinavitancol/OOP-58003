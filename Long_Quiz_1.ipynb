{
  "nbformat": 4,
  "nbformat_minor": 0,
  "metadata": {
    "colab": {
      "name": "Long Quiz 1",
      "provenance": [],
      "collapsed_sections": [],
      "authorship_tag": "ABX9TyP6LNjXXapXQ+vrfX1amUgJ",
      "include_colab_link": true
    },
    "kernelspec": {
      "name": "python3",
      "display_name": "Python 3"
    },
    "language_info": {
      "name": "python"
    }
  },
  "cells": [
    {
      "cell_type": "markdown",
      "metadata": {
        "id": "view-in-github",
        "colab_type": "text"
      },
      "source": [
        "<a href=\"https://colab.research.google.com/github/ortegamarinavitancol/OOP-58003/blob/main/Long_Quiz_1.ipynb\" target=\"_parent\"><img src=\"https://colab.research.google.com/assets/colab-badge.svg\" alt=\"Open In Colab\"/></a>"
      ]
    },
    {
      "cell_type": "code",
      "execution_count": 95,
      "metadata": {
        "colab": {
          "base_uri": "https://localhost:8080/"
        },
        "id": "3qr1Eyk7pbGP",
        "outputId": "e6c11231-6119-43bc-de7e-f584bf581601"
      },
      "outputs": [
        {
          "output_type": "stream",
          "name": "stdout",
          "text": [
            "Welcome to OOP Bank!\n",
            "\n",
            "Account Number: 202119669\n",
            "Name: Marina Ortega\n",
            "\n",
            "Enter Deposit Amount:100\n",
            "\n",
            "Amount Deposited: 100.0\n",
            "\n",
            "Thank you!\n"
          ]
        }
      ],
      "source": [
        "class Bank_Account:\n",
        "  def __init__(self, AccountNumber, Name):\n",
        "    self.AccountNumber = AccountNumber\n",
        "    self.Name = Name\n",
        "\n",
        "  def Deposit(self):\n",
        "    deposit = float(input(\"\\nEnter Deposit Amount:\"))\n",
        "    if deposit < 0:\n",
        "        print(\"\\Invalid Amount\")\n",
        "    else:\n",
        "      print(\"\\nAmount Deposited:\", deposit)\n",
        "\n",
        "  def Display(self):\n",
        "    print(\"Welcome to OOP Bank!\")\n",
        "    print(\"\\nAccount Number:\", self.AccountNumber)\n",
        "    print(\"Name:\", self.Name)\n",
        "    self.Deposit()\n",
        "    print(\"\\nThank you!\")\n",
        "\n",
        "account1 = Bank_Account(202119669, \"Marina Ortega\")\n",
        "account1.Display()\n"
      ]
    }
  ]
}