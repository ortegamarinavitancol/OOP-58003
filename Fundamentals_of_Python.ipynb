{
  "nbformat": 4,
  "nbformat_minor": 0,
  "metadata": {
    "colab": {
      "name": "Fundamentals of Python.ipynb",
      "provenance": [],
      "authorship_tag": "ABX9TyO1fAaQnppET4IA/Z7WwR2o",
      "include_colab_link": true
    },
    "kernelspec": {
      "name": "python3",
      "display_name": "Python 3"
    },
    "language_info": {
      "name": "python"
    }
  },
  "cells": [
    {
      "cell_type": "markdown",
      "metadata": {
        "id": "view-in-github",
        "colab_type": "text"
      },
      "source": [
        "<a href=\"https://colab.research.google.com/github/ortegamarinavitancol/OOP-58003/blob/main/Fundamentals_of_Python.ipynb\" target=\"_parent\"><img src=\"https://colab.research.google.com/assets/colab-badge.svg\" alt=\"Open In Colab\"/></a>"
      ]
    },
    {
      "cell_type": "markdown",
      "source": [
        "#Fundamentals of Python"
      ],
      "metadata": {
        "id": "X8XggUs9qIr_"
      }
    },
    {
      "cell_type": "markdown",
      "source": [
        "##Python Indentation"
      ],
      "metadata": {
        "id": "nSHcbKT_rUpy"
      }
    },
    {
      "cell_type": "code",
      "source": [
        "if 6>7:\n",
        "  print(\"6 is greater than 4\")\n",
        "else:\n",
        "  print(\"6 is less than a number\")"
      ],
      "metadata": {
        "colab": {
          "base_uri": "https://localhost:8080/"
        },
        "id": "TwX0hs2rrXTG",
        "outputId": "74adc9d2-3e4a-4af6-a39c-932b65326bbb"
      },
      "execution_count": 3,
      "outputs": [
        {
          "output_type": "stream",
          "name": "stdout",
          "text": [
            "6 is less than a number\n"
          ]
        }
      ]
    },
    {
      "cell_type": "markdown",
      "source": [
        "##Python Comments"
      ],
      "metadata": {
        "id": "ActeTPbvsWYI"
      }
    },
    {
      "cell_type": "code",
      "source": [
        "print(\"Hello World\") #this is a comment"
      ],
      "metadata": {
        "colab": {
          "base_uri": "https://localhost:8080/"
        },
        "id": "62ODrYmnsZSF",
        "outputId": "d5c37795-f50a-4e3f-bc88-867561899515"
      },
      "execution_count": 5,
      "outputs": [
        {
          "output_type": "stream",
          "name": "stdout",
          "text": [
            "Hello World\n"
          ]
        }
      ]
    },
    {
      "cell_type": "markdown",
      "source": [
        "##Python Variables"
      ],
      "metadata": {
        "id": "TvggxxfttThz"
      }
    },
    {
      "cell_type": "code",
      "source": [
        "a = 1\n",
        "b,c=0,2\n",
        "c,d,e=2,3,4\n",
        "\n",
        "name=\"Ana\"\n",
        "\n",
        "print(e)\n",
        "print(d)\n",
        "print(name)\n"
      ],
      "metadata": {
        "colab": {
          "base_uri": "https://localhost:8080/"
        },
        "id": "zGfjd9-2tb_K",
        "outputId": "0fd3098d-993c-4a03-cccb-a545e4812a31"
      },
      "execution_count": 9,
      "outputs": [
        {
          "output_type": "stream",
          "name": "stdout",
          "text": [
            "4\n",
            "3\n",
            "Ana\n"
          ]
        }
      ]
    },
    {
      "cell_type": "markdown",
      "source": [
        "##Casting"
      ],
      "metadata": {
        "id": "M7dgrXKvuD8p"
      }
    },
    {
      "cell_type": "code",
      "source": [
        "a=int(1)\n",
        "\n",
        "print(a)"
      ],
      "metadata": {
        "colab": {
          "base_uri": "https://localhost:8080/"
        },
        "id": "6XL7Xo3GuFx5",
        "outputId": "f76bc7ad-f43a-4e81-ecbd-6bed44417b56"
      },
      "execution_count": 10,
      "outputs": [
        {
          "output_type": "stream",
          "name": "stdout",
          "text": [
            "1\n"
          ]
        }
      ]
    },
    {
      "cell_type": "markdown",
      "source": [
        "##Type() Function"
      ],
      "metadata": {
        "id": "vANCILxGuUmJ"
      }
    },
    {
      "cell_type": "code",
      "source": [
        "a=int(2)\n",
        "b=float(4.50)\n",
        "\n",
        "print(type(a))\n",
        "print(type(b))"
      ],
      "metadata": {
        "colab": {
          "base_uri": "https://localhost:8080/"
        },
        "id": "Xr8grtxWuWet",
        "outputId": "a573042e-0ec3-4756-9bb2-36d5ebb1b8df"
      },
      "execution_count": 16,
      "outputs": [
        {
          "output_type": "stream",
          "name": "stdout",
          "text": [
            "<class 'int'>\n",
            "<class 'float'>\n"
          ]
        }
      ]
    },
    {
      "cell_type": "markdown",
      "source": [
        "##Double Quotes and Single Quotes"
      ],
      "metadata": {
        "id": "NNcQM6lIuzA_"
      }
    },
    {
      "cell_type": "code",
      "source": [
        "name='John'\n",
        "\n",
        "print(name)"
      ],
      "metadata": {
        "colab": {
          "base_uri": "https://localhost:8080/"
        },
        "id": "3fYxf9B6u3fZ",
        "outputId": "4dbfe0f7-0225-4720-fbe4-909a6a6a174b"
      },
      "execution_count": 14,
      "outputs": [
        {
          "output_type": "stream",
          "name": "stdout",
          "text": [
            "John\n"
          ]
        }
      ]
    },
    {
      "cell_type": "markdown",
      "source": [
        "##Case Sensitive"
      ],
      "metadata": {
        "id": "_cH0Z7lCu_aq"
      }
    },
    {
      "cell_type": "code",
      "source": [
        "print(a)\n",
        "A = \"I\"\n",
        "\n",
        "print(A)"
      ],
      "metadata": {
        "colab": {
          "base_uri": "https://localhost:8080/"
        },
        "id": "dL18xsN4vBo5",
        "outputId": "d88b29ea-9a26-4a2a-ea0b-4dd17b3c184e"
      },
      "execution_count": 19,
      "outputs": [
        {
          "output_type": "stream",
          "name": "stdout",
          "text": [
            "2\n",
            "I\n"
          ]
        }
      ]
    },
    {
      "cell_type": "markdown",
      "source": [
        "##Multiple Variables with Single Value"
      ],
      "metadata": {
        "id": "4L7b_j31vcV9"
      }
    },
    {
      "cell_type": "code",
      "source": [
        "f=g=h=\"Tony\"\n",
        "\n",
        "print(f)\n",
        "print(g)\n",
        "print(h)\n",
        "print(f,g,h)"
      ],
      "metadata": {
        "colab": {
          "base_uri": "https://localhost:8080/"
        },
        "id": "Vhx6xXN6vmHV",
        "outputId": "cda8fff5-3062-4422-9316-0f1b29eceedb"
      },
      "execution_count": 23,
      "outputs": [
        {
          "output_type": "stream",
          "name": "stdout",
          "text": [
            "Tony\n",
            "Tony\n",
            "Tony\n",
            "Tony Tony Tony\n"
          ]
        }
      ]
    },
    {
      "cell_type": "markdown",
      "source": [
        "##Output Variables"
      ],
      "metadata": {
        "id": "tCRHl-7BwE4J"
      }
    },
    {
      "cell_type": "code",
      "source": [
        "print(\"Welcome to Python Programming\")\n",
        "x=\"Welcome to \"\n",
        "y=\"Python Programming\"\n",
        "print(x+y)"
      ],
      "metadata": {
        "colab": {
          "base_uri": "https://localhost:8080/"
        },
        "id": "Z2BqoBRkwG6r",
        "outputId": "67513fb0-5f65-404a-b6b1-900b9abd5580"
      },
      "execution_count": 26,
      "outputs": [
        {
          "output_type": "stream",
          "name": "stdout",
          "text": [
            "Welcome to Python Programming\n",
            "Welcome to Python Programming\n"
          ]
        }
      ]
    },
    {
      "cell_type": "markdown",
      "source": [
        "##Arithmetic Operations"
      ],
      "metadata": {
        "id": "HM6r0HE_wkaK"
      }
    },
    {
      "cell_type": "code",
      "source": [
        "print(1+1)\n",
        "print(1-1)\n",
        "print(1*1)\n",
        "print(1/1)\n",
        "print(int(1/1))\n",
        "print(3//2)\n",
        "print(3**2)"
      ],
      "metadata": {
        "colab": {
          "base_uri": "https://localhost:8080/"
        },
        "id": "mNLjJE-kxDYJ",
        "outputId": "60b69c2b-4dce-4d02-fd11-4f7ca6bbaf95"
      },
      "execution_count": 43,
      "outputs": [
        {
          "output_type": "stream",
          "name": "stdout",
          "text": [
            "2\n",
            "0\n",
            "1\n",
            "1.0\n",
            "1\n",
            "1\n",
            "9\n"
          ]
        }
      ]
    },
    {
      "cell_type": "markdown",
      "source": [
        "##Assignment Operator"
      ],
      "metadata": {
        "id": "j4OeqMWxxogc"
      }
    },
    {
      "cell_type": "code",
      "source": [
        "p=5\n",
        "\n",
        "p%=2 #Same as p = p%2\n",
        "print(p)"
      ],
      "metadata": {
        "colab": {
          "base_uri": "https://localhost:8080/"
        },
        "id": "NL8sFiDvxrt3",
        "outputId": "a7f5b585-bdb5-4e66-a6d6-f2ff33854aea"
      },
      "execution_count": 36,
      "outputs": [
        {
          "output_type": "stream",
          "name": "stdout",
          "text": [
            "1\n"
          ]
        }
      ]
    },
    {
      "cell_type": "markdown",
      "source": [
        "##Comparison Operator"
      ],
      "metadata": {
        "id": "UYRLtbczySAG"
      }
    },
    {
      "cell_type": "code",
      "source": [
        "s = 11\n",
        "t = 12\n",
        "\n",
        "s>t"
      ],
      "metadata": {
        "colab": {
          "base_uri": "https://localhost:8080/"
        },
        "id": "P7OSd9ZeyU2A",
        "outputId": "4b53f073-3036-4741-8963-e9b55425ef4d"
      },
      "execution_count": 37,
      "outputs": [
        {
          "output_type": "execute_result",
          "data": {
            "text/plain": [
              "False"
            ]
          },
          "metadata": {},
          "execution_count": 37
        }
      ]
    },
    {
      "cell_type": "markdown",
      "source": [
        "##Logical Operators\n"
      ],
      "metadata": {
        "id": "Gu1g55NtyfW9"
      }
    },
    {
      "cell_type": "code",
      "source": [
        "print(s>t and t >s)\n",
        "print(s>t or t >s)"
      ],
      "metadata": {
        "colab": {
          "base_uri": "https://localhost:8080/"
        },
        "id": "OloTqxBRyiJG",
        "outputId": "69584eb2-5d15-4e80-8eb6-a9cfc86a6a95"
      },
      "execution_count": 39,
      "outputs": [
        {
          "output_type": "stream",
          "name": "stdout",
          "text": [
            "False\n",
            "True\n"
          ]
        }
      ]
    }
  ]
}