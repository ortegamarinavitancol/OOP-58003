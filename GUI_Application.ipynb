{
  "nbformat": 4,
  "nbformat_minor": 0,
  "metadata": {
    "colab": {
      "name": "GUI Application.ipynb",
      "provenance": [],
      "authorship_tag": "ABX9TyO0NLwJJ3wu0PinAoQSHYRb",
      "include_colab_link": true
    },
    "kernelspec": {
      "name": "python3",
      "display_name": "Python 3"
    },
    "language_info": {
      "name": "python"
    }
  },
  "cells": [
    {
      "cell_type": "markdown",
      "metadata": {
        "id": "view-in-github",
        "colab_type": "text"
      },
      "source": [
        "<a href=\"https://colab.research.google.com/github/ortegamarinavitancol/OOP-58003/blob/main/GUI_Application.ipynb\" target=\"_parent\"><img src=\"https://colab.research.google.com/assets/colab-badge.svg\" alt=\"Open In Colab\"/></a>"
      ]
    },
    {
      "cell_type": "markdown",
      "source": [
        "Students' Grade in Prelim, Mideterm, and Final Term"
      ],
      "metadata": {
        "id": "k6EouIqcGn2L"
      }
    },
    {
      "cell_type": "code",
      "source": [
        "#@title Students' Grade in OOP\n",
        "\n",
        "Student_Name = \"Marina Ortega\" #@param {type:\"string\"}\n",
        "Prelim_Grade = 92 #@param {type:\"number\"}\n",
        "Midterm_Grade =  95#@param {type:\"number\"}\n",
        "Final_Grade = 94 #@param {type:\"number\"}\n",
        "Semestral_Grade = (Prelim_Grade+Midterm_Grade+Final_Grade)/3\n",
        "\n",
        "\n",
        "Gender = \"Female\" #@param [\"Male\",\"Female\"]\n",
        "Single = True #@param {type:\"boolean\"}\n",
        "Married = False #@param {type:\"boolean\"}\n",
        "Widow = False #@param {type:\"boolean\"}\n",
        "\n",
        "print(\"My Name is:\"+Student_Name)\n",
        "print(\"My Semestral grade is:\"+str(Semestral_Grade))"
      ],
      "metadata": {
        "colab": {
          "base_uri": "https://localhost:8080/"
        },
        "id": "yfWuqp67Gs7z",
        "outputId": "98a84701-d85f-4329-bdf0-2ae2616da3c5"
      },
      "execution_count": 7,
      "outputs": [
        {
          "output_type": "stream",
          "name": "stdout",
          "text": [
            "My Name is:Marina Ortega\n",
            "My Semestral grade is:93.66666666666667\n"
          ]
        }
      ]
    }
  ]
}